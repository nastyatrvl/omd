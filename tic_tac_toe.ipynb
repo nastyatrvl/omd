{
 "cells": [
  {
   "cell_type": "code",
   "execution_count": 79,
   "metadata": {},
   "outputs": [],
   "source": [
    "game_board = {'a1': ' ' , 'a2': ' ' , 'a3': ' ' ,\n",
    "            'b1': ' ' , 'b2': ' ' , 'b3': ' ' ,\n",
    "            'c1': ' ' , 'c2': ' ' , 'c3': ' ' }"
   ]
  },
  {
   "cell_type": "code",
   "execution_count": 80,
   "metadata": {},
   "outputs": [],
   "source": [
    "def print_board(game_board):\n",
    "    print('  1  2  3')\n",
    "    print('a ' + game_board['a1'] + ' | ' + game_board['a2'] + '|' + game_board['a3'])\n",
    "    print('-----------')\n",
    "    print('b ' + game_board['b1'] + ' | ' + game_board['b2'] + '|' + game_board['b3'])\n",
    "    print('-----------')\n",
    "    print('c ' + game_board['c1'] + ' | ' + game_board['c2'] + '|' + game_board['c3'])"
   ]
  },
  {
   "cell_type": "code",
   "execution_count": 81,
   "metadata": {},
   "outputs": [
    {
     "name": "stdout",
     "output_type": "stream",
     "text": [
      "  1  2  3\n",
      "a   |  | \n",
      "-----------\n",
      "b   |  | \n",
      "-----------\n",
      "c   |  | \n"
     ]
    }
   ],
   "source": [
    "print_board(game_board)"
   ]
  },
  {
   "cell_type": "code",
   "execution_count": 82,
   "metadata": {},
   "outputs": [],
   "source": [
    "board_keys = []\n",
    "\n",
    "for key in game_board:\n",
    "    board_keys.append(key)"
   ]
  },
  {
   "cell_type": "code",
   "execution_count": 83,
   "metadata": {},
   "outputs": [
    {
     "data": {
      "text/plain": [
       "['a1', 'a2', 'a3', 'b1', 'b2', 'b3', 'c1', 'c2', 'c3']"
      ]
     },
     "execution_count": 83,
     "metadata": {},
     "output_type": "execute_result"
    }
   ],
   "source": [
    "board_keys"
   ]
  },
  {
   "cell_type": "code",
   "execution_count": 84,
   "metadata": {},
   "outputs": [
    {
     "ename": "IndentationError",
     "evalue": "unexpected indent (<ipython-input-84-42ac5f788350>, line 24)",
     "output_type": "error",
     "traceback": [
      "\u001b[0;36m  File \u001b[0;32m\"<ipython-input-84-42ac5f788350>\"\u001b[0;36m, line \u001b[0;32m24\u001b[0m\n\u001b[0;31m    break\u001b[0m\n\u001b[0m    ^\u001b[0m\n\u001b[0;31mIndentationError\u001b[0m\u001b[0;31m:\u001b[0m unexpected indent\n"
     ]
    }
   ],
   "source": [
    "def krestiki_noliki():\n",
    "\n",
    "    turn = 'X'\n",
    "    count = 0\n",
    "\n",
    "\n",
    "    for i in range(10):\n",
    "        print_board(game_board)\n",
    "        print(turn + \" ходят. Куда?\")\n",
    "\n",
    "        move = input()        \n",
    "\n",
    "        if game_board[move] == ' ':\n",
    "            game_board[move] = turn\n",
    "            count += 1\n",
    "        else:\n",
    "            print(\"Эта клеточка уже занята. Выбери другую.\")\n",
    "            continue\n",
    "\n",
    "        if count >= 5:\n",
    "            if game_board['a1'] == game_board['a2'] == game_board['a3'] != ' ': # весь верхний ряд\n",
    "                print_board(game_board)\n",
    "                print(\"\\nИгра окончена! \"  + turn + \" выиграли!\")                               \n",
    "                break\n",
    "                \n",
    "            elif game_board['b1'] == game_board['b2'] == game_board['b3'] != ' ': # весь средний ряд\n",
    "                print_board(game_board)\n",
    "                print(\"\\nИгра окончена! \"  + turn + \" выиграли!\")             \n",
    "                break\n",
    "                \n",
    "            elif game_board['c1'] == game_board['c2'] == game_board['c3'] != ' ': # весь нижнний ряд\n",
    "                print_board(game_board)\n",
    "                print(\"\\nИгра окончена! \"  + turn + \" выиграли!\")             \n",
    "                break\n",
    "                \n",
    "            elif game_board['a1'] == game_board['b1'] == game_board['c1'] != ' ': # левый столбец\n",
    "                print_board(game_board)\n",
    "                print(\"\\nИгра окончена! \"  + turn + \" выиграли!\")             \n",
    "                break\n",
    "                \n",
    "            elif game_board['a2'] == game_board['b2'] == game_board['c2'] != ' ': # средний столбец\n",
    "                print_board(game_board)\n",
    "                print(\"\\nИгра окончена! \"  + turn + \" выиграли!\")             \n",
    "                break\n",
    "                \n",
    "            elif game_board['a3'] == game_board['b3'] == game_board['c3'] != ' ': # правый столбец\n",
    "                print_board(game_board)\n",
    "                print(\"\\nИгра окончена! \"  + turn + \" выиграли!\")             \n",
    "                break \n",
    "                \n",
    "            elif game_board['a1'] == game_board['b2'] == game_board['c3'] != ' ': # диагональ1\n",
    "                print_board(game_board)\n",
    "                print(\"\\nИгра окончена! \"  + turn + \" выиграли!\")             \n",
    "                break\n",
    "                \n",
    "            elif game_board['a3'] == game_board['b2'] == game_board['c1'] != ' ': # диагональ2\n",
    "                print_board(game_board)\n",
    "                print(\"\\nИгра окончена! \"  + turn + \" выиграли!\")             \n",
    "                break \n",
    "\n",
    "        # ничья\n",
    "        if count == 9:\n",
    "            print(\"\\nИгра окончена.\\n\")                \n",
    "            print(\"Дружба победила :)\")\n",
    "\n",
    "        # смена игроков\n",
    "        if turn == 'X':\n",
    "            turn = 'O'\n",
    "        else:\n",
    "            turn = 'X'        \n",
    "\n",
    "\n",
    "    krestiki_noliki()\n",
    "\n",
    "if __name__ == \"__main__\":\n",
    "    krestiki_noliki()"
   ]
  },
  {
   "cell_type": "code",
   "execution_count": null,
   "metadata": {},
   "outputs": [],
   "source": []
  }
 ],
 "metadata": {
  "kernelspec": {
   "display_name": "Python 3",
   "language": "python",
   "name": "python3"
  },
  "language_info": {
   "codemirror_mode": {
    "name": "ipython",
    "version": 3
   },
   "file_extension": ".py",
   "mimetype": "text/x-python",
   "name": "python",
   "nbconvert_exporter": "python",
   "pygments_lexer": "ipython3",
   "version": "3.7.4"
  }
 },
 "nbformat": 4,
 "nbformat_minor": 2
}
