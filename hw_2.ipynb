{
 "cells": [
  {
   "cell_type": "code",
   "execution_count": 15,
   "metadata": {},
   "outputs": [],
   "source": [
    "# 1\n",
    "\n",
    "\n",
    "def splitter(my_num):\n",
    "    digits = []\n",
    "    while my_num > 0: \n",
    "        rem = my_num % 10 # остаток от деления на 10, последняя цифра\n",
    "        my_num = int(my_num / 10) # округленный результат деления на 10, число без последней цифры\n",
    "        digits.append(rem) # складываем остатки\n",
    "\n",
    "    return digits[::-1]\n",
    "    \n"
   ]
  },
  {
   "cell_type": "code",
   "execution_count": 16,
   "metadata": {},
   "outputs": [
    {
     "name": "stdout",
     "output_type": "stream",
     "text": [
      "1.95 µs ± 28.6 ns per loop (mean ± std. dev. of 7 runs, 100000 loops each)\n"
     ]
    }
   ],
   "source": [
    "%%timeit\n",
    "splitter(18765843)"
   ]
  },
  {
   "cell_type": "code",
   "execution_count": 17,
   "metadata": {},
   "outputs": [],
   "source": [
    "# 2\n",
    "\n",
    "\n",
    "def eo_calculator(my_num):\n",
    "    my_num = 166458\n",
    "    evens = 0\n",
    "    odds = 0\n",
    "\n",
    "    while my_num > 0: \n",
    "        rem = my_num % 10 # остаток от деления на 10, последняя цифра\n",
    "        if (rem % 2 == 0): # если делится на два, то у нас плюс одна четная цифра\n",
    "            evens += 1\n",
    "        else: \n",
    "            odds += 1 # если не делится - плюс одна нечетная\n",
    "\n",
    "        my_num = int(my_num / 10) # обрезаем число и проверяем следующую\n",
    "\n",
    "    return evens, odds\n",
    "\n"
   ]
  },
  {
   "cell_type": "code",
   "execution_count": 18,
   "metadata": {},
   "outputs": [
    {
     "name": "stdout",
     "output_type": "stream",
     "text": [
      "1.36 µs ± 17.3 ns per loop (mean ± std. dev. of 7 runs, 1000000 loops each)\n"
     ]
    }
   ],
   "source": [
    "%%timeit\n",
    "eo_calculator(18765843)"
   ]
  },
  {
   "cell_type": "code",
   "execution_count": 19,
   "metadata": {},
   "outputs": [],
   "source": [
    "# 3 \n",
    "\n",
    "\n",
    "def reverser(my_list):\n",
    "    return my_list[::-1]\n",
    "\n"
   ]
  },
  {
   "cell_type": "code",
   "execution_count": 20,
   "metadata": {},
   "outputs": [
    {
     "name": "stdout",
     "output_type": "stream",
     "text": [
      "188 ns ± 1.94 ns per loop (mean ± std. dev. of 7 runs, 10000000 loops each)\n"
     ]
    }
   ],
   "source": [
    "%%timeit\n",
    "my_list = [1,6,6,4,5,8]\n",
    "reverser(my_list)"
   ]
  },
  {
   "cell_type": "code",
   "execution_count": 21,
   "metadata": {},
   "outputs": [],
   "source": [
    "# 4 \n",
    "\n",
    "\n",
    "def check_if_includes(first, second): \n",
    "    return set(first) - set(second)\n",
    "\n"
   ]
  },
  {
   "cell_type": "code",
   "execution_count": 22,
   "metadata": {},
   "outputs": [
    {
     "name": "stdout",
     "output_type": "stream",
     "text": [
      "588 ns ± 6.8 ns per loop (mean ± std. dev. of 7 runs, 1000000 loops each)\n"
     ]
    }
   ],
   "source": [
    "%%timeit\n",
    "first = [1,2,3,4,5]\n",
    "second = [1,3,5]\n",
    "check_if_includes(first, second)"
   ]
  },
  {
   "cell_type": "code",
   "execution_count": 23,
   "metadata": {
    "scrolled": true
   },
   "outputs": [],
   "source": [
    "# 5\n",
    "\n",
    "\n",
    "def remove_duplicates(my_list):\n",
    "    return list(set(my_list))\n",
    "\n"
   ]
  },
  {
   "cell_type": "code",
   "execution_count": 24,
   "metadata": {},
   "outputs": [
    {
     "name": "stdout",
     "output_type": "stream",
     "text": [
      "488 ns ± 4.38 ns per loop (mean ± std. dev. of 7 runs, 1000000 loops each)\n"
     ]
    }
   ],
   "source": [
    "%%timeit\n",
    "my_list = [1,6,6,4,5,8]\n",
    "remove_duplicates(my_list)"
   ]
  },
  {
   "cell_type": "code",
   "execution_count": 25,
   "metadata": {},
   "outputs": [],
   "source": [
    "# 6\n",
    "\n",
    "\n",
    "def count_duplicates(my_list):\n",
    "    duplicates = []\n",
    "    for i in my_list:\n",
    "        if my_list.count(i) != 1:\n",
    "            duplicates.append(i)\n",
    "    return len(duplicates)\n",
    "\n"
   ]
  },
  {
   "cell_type": "code",
   "execution_count": 26,
   "metadata": {},
   "outputs": [
    {
     "name": "stdout",
     "output_type": "stream",
     "text": [
      "931 ns ± 6.45 ns per loop (mean ± std. dev. of 7 runs, 1000000 loops each)\n"
     ]
    }
   ],
   "source": [
    "%%timeit\n",
    "my_list = [1,6,6,4,5,8]\n",
    "count_duplicates(my_list)"
   ]
  },
  {
   "cell_type": "code",
   "execution_count": 27,
   "metadata": {},
   "outputs": [],
   "source": [
    "# 7\n",
    "\n",
    "\n",
    "def remove_elements(my_list):\n",
    "    good_list = []\n",
    "    for i in my_list:\n",
    "        if (i % 2 == 0):\n",
    "            good_list.append(i)\n",
    "    return good_list\n",
    "\n"
   ]
  },
  {
   "cell_type": "code",
   "execution_count": 28,
   "metadata": {},
   "outputs": [
    {
     "name": "stdout",
     "output_type": "stream",
     "text": [
      "582 ns ± 3.33 ns per loop (mean ± std. dev. of 7 runs, 1000000 loops each)\n"
     ]
    }
   ],
   "source": [
    "%%timeit\n",
    "my_list = [1,6,6,4,5,8]\n",
    "remove_elements(my_list)"
   ]
  },
  {
   "cell_type": "code",
   "execution_count": 9,
   "metadata": {},
   "outputs": [],
   "source": [
    "# 8\n",
    "\n",
    "\n",
    "def word_counter(my_string):\n",
    "    splitted = my_string.split()\n",
    "    my_dict = {}\n",
    "    for i in splitted:\n",
    "        if i in my_dict:\n",
    "            my_dict[i] += 1\n",
    "        else:\n",
    "            my_dict[i] = 1\n",
    "    return my_dict \n",
    "\n"
   ]
  },
  {
   "cell_type": "code",
   "execution_count": 11,
   "metadata": {},
   "outputs": [
    {
     "name": "stdout",
     "output_type": "stream",
     "text": [
      "2.52 µs ± 48.1 ns per loop (mean ± std. dev. of 7 runs, 100000 loops each)\n"
     ]
    }
   ],
   "source": [
    "%%timeit\n",
    "my_string = 'I had coffee in the morning and the coffee was good and I was happy about that'\n",
    "word_counter(my_string)"
   ]
  },
  {
   "cell_type": "code",
   "execution_count": 13,
   "metadata": {},
   "outputs": [],
   "source": [
    "# 9\n",
    "\n",
    "\n",
    "def extra_spaces_remover(my_string):\n",
    "    return ' '.join(my_string.split())\n",
    "\n"
   ]
  },
  {
   "cell_type": "code",
   "execution_count": 14,
   "metadata": {},
   "outputs": [
    {
     "name": "stdout",
     "output_type": "stream",
     "text": [
      "386 ns ± 10.5 ns per loop (mean ± std. dev. of 7 runs, 1000000 loops each)\n"
     ]
    }
   ],
   "source": [
    "%%timeit\n",
    "my_string = 'Python     is      great'\n",
    "extra_spaces_remover(my_string)"
   ]
  },
  {
   "cell_type": "code",
   "execution_count": 29,
   "metadata": {},
   "outputs": [],
   "source": [
    "# 10\n",
    "\n",
    "\n",
    "def find_strings(list_of_strings):\n",
    "    good_strings = []\n",
    "    for i in list_of_strings:\n",
    "        if ('Python' in i) == True:\n",
    "            good_strings.append(i)\n",
    "    return good_strings\n",
    "\n"
   ]
  },
  {
   "cell_type": "code",
   "execution_count": 30,
   "metadata": {},
   "outputs": [
    {
     "name": "stdout",
     "output_type": "stream",
     "text": [
      "395 ns ± 10.4 ns per loop (mean ± std. dev. of 7 runs, 1000000 loops each)\n"
     ]
    }
   ],
   "source": [
    "%%timeit\n",
    "list_of_strings = ['Python is great', 'Coffee was tasty', 'Python is called after Monty Python']\n",
    "find_strings(list_of_strings)"
   ]
  },
  {
   "cell_type": "code",
   "execution_count": 31,
   "metadata": {},
   "outputs": [],
   "source": [
    "# 11\n",
    "\n",
    "\n",
    "def valid_coordinates(coordinates):\n",
    "    bad_coordinates = []\n",
    "    for i in coordinates:\n",
    "        if i[0] > 90 or i[0] < -90 or i[1] > 180 or i[1] < -180:\n",
    "            bad_coordinates.append(i)\n",
    "    return bad_coordinates\n",
    "\n"
   ]
  },
  {
   "cell_type": "code",
   "execution_count": 32,
   "metadata": {},
   "outputs": [
    {
     "name": "stdout",
     "output_type": "stream",
     "text": [
      "1.08 µs ± 2.73 ns per loop (mean ± std. dev. of 7 runs, 1000000 loops each)\n"
     ]
    }
   ],
   "source": [
    "%%timeit\n",
    "coordinates = [[55.75, 37.62], [50, -240], [40.73, -73.94], [51.51, -0.12], [120, 40]]\n",
    "valid_coordinates(coordinates)"
   ]
  },
  {
   "cell_type": "code",
   "execution_count": 66,
   "metadata": {},
   "outputs": [
    {
     "name": "stdout",
     "output_type": "stream",
     "text": [
      " \n"
     ]
    },
    {
     "data": {
      "text/plain": [
       "(5, 5)"
      ]
     },
     "execution_count": 66,
     "metadata": {},
     "output_type": "execute_result"
    }
   ],
   "source": [
    "# 12 \n",
    "\n",
    "string_of_brackets = '() ((([]))}'\n",
    "lefts = [\"[\",\"{\",\"(\"] \n",
    "rights = [\"]\",\"}\",\")\"]\n",
    "matcher(string_of_brackets)"
   ]
  },
  {
   "cell_type": "code",
   "execution_count": 49,
   "metadata": {},
   "outputs": [],
   "source": [
    "def matcher(my_string):\n",
    "    stack= []\n",
    "    for i in my_string:\n",
    "        if i in lefts:\n",
    "            stack.append(i)\n",
    "        elif i in rights:\n",
    "            pos = rights.index(i) \n",
    "            if ((len(stack) > 0) and (rights[pos] == stack[len(stack)-1])):\n",
    "                stack.pop()\n",
    "            else:\n",
    "                return stack\n",
    "    if len(stack) == 0:\n",
    "        return None"
   ]
  },
  {
   "cell_type": "code",
   "execution_count": 65,
   "metadata": {},
   "outputs": [],
   "source": [
    "def matcher(my_string):\n",
    "    count_lefts = 0\n",
    "    count_rights = 0\n",
    "    for i in my_string:\n",
    "        if i in lefts:\n",
    "            count_lefts += 1\n",
    "        elif i in rights:\n",
    "            count_rights += 1\n",
    "        else:\n",
    "            print(i)\n",
    "    if count_lefts == count_rights:\n",
    "        return count_lefts, count_lefts\n",
    "    else:\n",
    "        return count_lefts, count_lefts"
   ]
  },
  {
   "cell_type": "code",
   "execution_count": null,
   "metadata": {},
   "outputs": [],
   "source": []
  }
 ],
 "metadata": {
  "kernelspec": {
   "display_name": "Python 3",
   "language": "python",
   "name": "python3"
  },
  "language_info": {
   "codemirror_mode": {
    "name": "ipython",
    "version": 3
   },
   "file_extension": ".py",
   "mimetype": "text/x-python",
   "name": "python",
   "nbconvert_exporter": "python",
   "pygments_lexer": "ipython3",
   "version": "3.7.4"
  }
 },
 "nbformat": 4,
 "nbformat_minor": 2
}
